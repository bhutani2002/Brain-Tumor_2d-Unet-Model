{
 "cells": [
  {
   "cell_type": "markdown",
   "metadata": {},
   "source": [
    "Image augmentation is a technique of altering the existing data to create some more data for the model training process. In other words, it is the process of artificially expanding the available dataset for training a deep learning model"
   ]
  },
  {
   "cell_type": "code",
   "execution_count": 35,
   "metadata": {},
   "outputs": [],
   "source": [
    "#Importing Modules,Libraries and Packages\n",
    "\n",
    "import numpy as np\n",
    "import tensorflow as tf\n",
    "from tensorflow import keras\n",
    "from tensorflow.keras import Model\n",
    "from tensorflow.keras import backend as K\n",
    "from tensorflow.keras.models import Sequential\n",
    "from tensorflow.keras.layers import Activation, Dense, Flatten, BatchNormalization, Conv2D, MaxPool2D,Conv2DTranspose,UpSampling2D,concatenate\n",
    "from tensorflow.keras.preprocessing import image\n",
    "from tensorflow.keras.optimizers import Adam\n",
    "from tensorflow.keras.metrics import categorical_crossentropy\n",
    "from tensorflow.keras.utils import to_categorical\n",
    "from tensorflow.keras.preprocessing.image import ImageDataGenerator\n",
    "from sklearn.metrics import confusion_matrix\n",
    "import itertools\n",
    "import os\n",
    "from os import listdir\n",
    "import shutil\n",
    "import random\n",
    "import glob\n",
    "import matplotlib.pyplot as plt\n",
    "import warnings\n",
    "import cv2 \n",
    "warnings.simplefilter(action='ignore', category=FutureWarning)\n",
    "%matplotlib inline"
   ]
  },
  {
   "cell_type": "code",
   "execution_count": 36,
   "metadata": {},
   "outputs": [],
   "source": [
    "# rotation_range: Int. Degree range for random rotations.\n",
    "# width_shift_range: Float, 1-D array-like or int(measured as a fraction of the width of the image.)\n",
    "# height_shift_range: Float, 1-D array-like or int(measured as a fraction of the width of the image.)\n",
    "# shear_range: Float. Shear Intensity (Shear angle in counter-clockwise direction in degrees)\n",
    "# zoom_range: Float or [lower, upper]. Range for random zoom. If a float, [lower, upper] = [1-zoom_range, 1+zoom_range].\n",
    "# channel_shift_range: Float. Range for random channel shifts.\n",
    "# horizontal_flip: Boolean. Randomly flip inputs horizontally.\n",
    "\n",
    "gen = ImageDataGenerator(rotation_range=10, width_shift_range=0.1, height_shift_range=0.1, shear_range=0.15, zoom_range=0.1, \n",
    "    channel_shift_range=10., horizontal_flip=True)"
   ]
  },
  {
   "cell_type": "code",
   "execution_count": 37,
   "metadata": {},
   "outputs": [],
   "source": [
    "#Function for plotting the images.\n",
    "\n",
    "def plotImages(images_arr):\n",
    "    fig, axes = plt.subplots(1, 10, figsize=(20,20))\n",
    "    axes = axes.flatten()\n",
    "    for img, ax in zip( images_arr, axes):\n",
    "        ax.imshow(img)\n",
    "        ax.axis('off')\n",
    "    plt.tight_layout()\n",
    "    plt.show()"
   ]
  },
  {
   "cell_type": "markdown",
   "metadata": {},
   "source": [
    "Processing for Augmentation"
   ]
  },
  {
   "cell_type": "code",
   "execution_count": 40,
   "metadata": {},
   "outputs": [],
   "source": [
    "z=3063\n",
    "j=3063\n",
    "for i in range(0,100):\n",
    "\n",
    "    # Choosing a random image and mask from the directory and setting its dimensions\n",
    "\n",
    "    chosen_image2 = random.choice(os.listdir('D:\\DIC\\DIC Brain Tumor\\DIC_brain_tumor_dataset\\images'))\n",
    "    image_path1 = 'D:\\DIC\\DIC Brain Tumor\\DIC_brain_tumor_dataset\\images/' + chosen_image2\n",
    "    images = image.load_img(image_path1, target_size=(256,256,3))\n",
    "    images = image.img_to_array(images)\n",
    "    images = np.expand_dims(images, axis=0)\n",
    "    # images.shape\n",
    "\n",
    "\n",
    "\n",
    "    mask_path1 = 'D:\\DIC\\DIC Brain Tumor\\DIC_brain_tumor_dataset\\masks/' + chosen_image2\n",
    "    mask_path1=mask_path1[:-4]+\"_mask.png\"\n",
    "    masks = image.load_img(mask_path1, target_size=(256,256,3))\n",
    "    masks = image.img_to_array(masks)\n",
    "    masks = np.expand_dims(masks, axis=0)\n",
    "    # masks.shape\n",
    "\n",
    "    \n",
    "    \n",
    "    #Next, we'll generate batches of augmented images from the original image.\n",
    "    #The flow() function takes numpy data and generates batches of augmented data.\n",
    "\n",
    "    aug_iter = gen.flow(images)\n",
    "    aug_images = [next(aug_iter)[0].astype(np.uint8) for i in range(10)]\n",
    "\n",
    "    # plotImages(aug_images)\n",
    "\n",
    "\n",
    "    aug_iter = gen.flow(masks)\n",
    "    aug_masks = [next(aug_iter)[0].astype(np.uint8) for i in range(10)]\n",
    "\n",
    "    # plotImages(aug_masks)\n",
    "\n",
    "\n",
    "\n",
    "    #Saving the images and masks to the directory    \n",
    "    \n",
    "    for x, val in zip(gen.flow(images,            #image we chose\n",
    "        save_to_dir='D:\\DIC\\DIC Brain Tumor\\DIC_brain_tumor_dataset\\Augmented-images',  #Directory to save the data\n",
    "         save_prefix='x',     # it will save the images as 'x_0_912' some number for every new augmented image\n",
    "        save_format='png'),range(10)) : # here we define a range because we want 10 augmented images\n",
    "        pass\n",
    "\n",
    "    for x, val in zip(gen.flow(masks,             #image we chose\n",
    "        save_to_dir='D:\\DIC\\DIC Brain Tumor\\DIC_brain_tumor_dataset\\Augmented-masks',   #Directory to save the data\n",
    "         save_prefix='x',     # it will save the images as 'x_0_912' some number for every new augmented image\n",
    "        save_format='png'),range(10)) : # here we define a range because we want 10 augmented images otherwise it will keep looping forever I think\n",
    "        pass\n",
    "\n",
    "    \n",
    "\n",
    "    #Renaming the augmentated images and masks saved to the format we require\n",
    "    \n",
    "    for i in  os.listdir('D:\\DIC\\DIC Brain Tumor\\DIC_brain_tumor_dataset\\Augmented-images'):\n",
    "        image_path = 'D:\\DIC\\DIC Brain Tumor\\DIC_brain_tumor_dataset\\Augmented-images/' + i\n",
    "        new_path='D:\\DIC\\DIC Brain Tumor\\DIC_brain_tumor_dataset\\Augmented-images/' + str(z+1)+\".png\"\n",
    "        z+=1\n",
    "        os.rename(image_path,new_path)\n",
    "\n",
    "    \n",
    "    for i in  os.listdir('D:\\DIC\\DIC Brain Tumor\\DIC_brain_tumor_dataset\\Augmented-masks'):\n",
    "        image_path = 'D:\\DIC\\DIC Brain Tumor\\DIC_brain_tumor_dataset\\Augmented-masks/' + i\n",
    "        new_path='D:\\DIC\\DIC Brain Tumor\\DIC_brain_tumor_dataset\\Augmented-masks/' + str(j+1)+\"_mask.png\"\n",
    "        j+=1\n",
    "        os.rename(image_path,new_path)\n",
    "\n"
   ]
  },
  {
   "cell_type": "markdown",
   "metadata": {},
   "source": [
    "Copying the augmented data to the directory we require"
   ]
  },
  {
   "cell_type": "code",
   "execution_count": 42,
   "metadata": {},
   "outputs": [],
   "source": [
    "for i in os.listdir('D:\\DIC\\DIC Brain Tumor\\DIC_brain_tumor_dataset\\Augmented-images'):\n",
    "        shutil.copy('D:\\DIC\\DIC Brain Tumor\\DIC_brain_tumor_dataset\\Augmented-images/' + i, 'D:\\DIC\\DIC Brain Tumor\\DIC_brain_tumor_dataset\\images/')"
   ]
  },
  {
   "cell_type": "code",
   "execution_count": 43,
   "metadata": {},
   "outputs": [],
   "source": [
    "for i in os.listdir('D:\\DIC\\DIC Brain Tumor\\DIC_brain_tumor_dataset\\Augmented-masks'):\n",
    "        shutil.copy('D:\\DIC\\DIC Brain Tumor\\DIC_brain_tumor_dataset\\Augmented-masks/' + i, 'D:\\DIC\\DIC Brain Tumor\\DIC_brain_tumor_dataset\\masks/')"
   ]
  }
 ],
 "metadata": {
  "interpreter": {
   "hash": "7b027109ea7a10b90c1e355b21d51f37674fcf80327241b9e9f1e359e54798c2"
  },
  "kernelspec": {
   "display_name": "Python 3",
   "language": "python",
   "name": "python3"
  },
  "language_info": {
   "codemirror_mode": {
    "name": "ipython",
    "version": 3
   },
   "file_extension": ".py",
   "mimetype": "text/x-python",
   "name": "python",
   "nbconvert_exporter": "python",
   "pygments_lexer": "ipython3",
   "version": "3.9.6"
  }
 },
 "nbformat": 4,
 "nbformat_minor": 4
}
